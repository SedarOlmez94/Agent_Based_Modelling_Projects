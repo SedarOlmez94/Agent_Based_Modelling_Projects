{
 "cells": [
  {
   "cell_type": "markdown",
   "metadata": {},
   "source": [
    "# Statistical significance test on data from all four experiments\n",
    "## Each experiment is executed 50 times for 20 minutes\n",
    "* Date: 24/09/2020\n",
    "* Author: Sedar Olmez"
   ]
  },
  {
   "cell_type": "code",
   "execution_count": 1,
   "metadata": {},
   "outputs": [],
   "source": [
    "# Packages to be used\n",
    "import numpy as np\n",
    "from matplotlib import pyplot as plt\n",
    "import seaborn as sb\n",
    "import pandas as pd\n",
    "from numpy.random import seed\n",
    "from numpy.random import randn\n",
    "from numpy import mean\n",
    "from numpy import std\n",
    "from scipy.stats import ttest_ind\n",
    "from scipy.stats import ttest_rel\n",
    "from pathlib import Path\n",
    "sb.set()"
   ]
  },
  {
   "cell_type": "code",
   "execution_count": 2,
   "metadata": {},
   "outputs": [
    {
     "name": "stdout",
     "output_type": "stream",
     "text": [
      "data1: mean=50.303 stdv=4.426\n",
      "data2: mean=51.764 stdv=4.660\n"
     ]
    }
   ],
   "source": [
    "#Statistical significance test\n",
    "\n",
    "# seed the random number generator\n",
    "seed(1)\n",
    "# generate two sets of univariate observations\n",
    "data1 = 5 * randn(100) + 50\n",
    "data2 = 5 * randn(100) + 51\n",
    "# summarize\n",
    "print('data1: mean=%.3f stdv=%.3f' % (mean(data1), std(data1)))\n",
    "print('data2: mean=%.3f stdv=%.3f' % (mean(data2), std(data2)))"
   ]
  },
  {
   "cell_type": "code",
   "execution_count": 3,
   "metadata": {},
   "outputs": [
    {
     "name": "stdout",
     "output_type": "stream",
     "text": [
      "Statistics=-2.262, p=0.025\n",
      "Different distributions (reject H0)\n"
     ]
    }
   ],
   "source": [
    "# compare samples\n",
    "stat, p = ttest_ind(data1, data2)\n",
    "print('Statistics=%.3f, p=%.3f' % (stat, p))\n",
    "# interpret\n",
    "alpha = 0.05\n",
    "if p > alpha:\n",
    "    print('Same distributions (fail to reject H0)')\n",
    "else:\n",
    "    print('Different distributions (reject H0)')"
   ]
  },
  {
   "cell_type": "code",
   "execution_count": 4,
   "metadata": {},
   "outputs": [
    {
     "name": "stdout",
     "output_type": "stream",
     "text": [
      "Statistics=-2.372, p=0.020\n",
      "Different distributions (reject H0)\n"
     ]
    }
   ],
   "source": [
    "# compare samples\n",
    "stat, p = ttest_rel(data1, data2)\n",
    "print('Statistics=%.3f, p=%.3f' % (stat, p))\n",
    "# interpret\n",
    "alpha = 0.05\n",
    "if p > alpha:\n",
    "    print('Same distributions (fail to reject H0)')\n",
    "else:\n",
    "    print('Different distributions (reject H0)')"
   ]
  },
  {
   "cell_type": "code",
   "execution_count": 5,
   "metadata": {},
   "outputs": [],
   "source": [
    "#ANOVA test is a possible option, it tests the significance of N groups over various timepoints."
   ]
  },
  {
   "cell_type": "code",
   "execution_count": 5,
   "metadata": {},
   "outputs": [],
   "source": [
    "# Get the names of all the .csv's for each experiment and store in list.\n",
    "import os\n",
    "\n",
    "newlist_ex1 = []\n",
    "newlist_ex2 = []\n",
    "newlist_ex3 = []\n",
    "newlist_ex4 = []\n",
    "\n",
    "def get_all_csvs(experiment_link, list_to_fill):\n",
    "    items = os.listdir(experiment_link)\n",
    "    for names in items:\n",
    "        if names.endswith(\"prey.csv\"):\n",
    "            list_to_fill.append(names)\n",
    "\n",
    "        \n",
    "get_all_csvs(\"Experiment_1-results\", newlist_ex1)\n",
    "get_all_csvs(\"Experiment_2-results\", newlist_ex2)\n",
    "get_all_csvs(\"Experiment_3-results\", newlist_ex3)\n",
    "get_all_csvs(\"Experiment_4-results\", newlist_ex4)"
   ]
  },
  {
   "cell_type": "code",
   "execution_count": 7,
   "metadata": {},
   "outputs": [
    {
     "ename": "NameError",
     "evalue": "name 'newlist' is not defined",
     "output_type": "error",
     "traceback": [
      "\u001b[0;31m---------------------------------------------------------------------------\u001b[0m",
      "\u001b[0;31mNameError\u001b[0m                                 Traceback (most recent call last)",
      "\u001b[0;32m<ipython-input-7-4f11e19e63ff>\u001b[0m in \u001b[0;36m<module>\u001b[0;34m\u001b[0m\n\u001b[1;32m      2\u001b[0m \u001b[0mindex\u001b[0m \u001b[0;34m=\u001b[0m \u001b[0;36m0\u001b[0m\u001b[0;34m\u001b[0m\u001b[0;34m\u001b[0m\u001b[0m\n\u001b[1;32m      3\u001b[0m \u001b[0mdata\u001b[0m \u001b[0;34m=\u001b[0m \u001b[0mpd\u001b[0m\u001b[0;34m.\u001b[0m\u001b[0mDataFrame\u001b[0m\u001b[0;34m(\u001b[0m\u001b[0;34m)\u001b[0m\u001b[0;34m\u001b[0m\u001b[0;34m\u001b[0m\u001b[0m\n\u001b[0;32m----> 4\u001b[0;31m \u001b[0;32mfor\u001b[0m \u001b[0mfilename\u001b[0m \u001b[0;32min\u001b[0m \u001b[0mnewlist\u001b[0m\u001b[0;34m:\u001b[0m\u001b[0;34m\u001b[0m\u001b[0;34m\u001b[0m\u001b[0m\n\u001b[0m\u001b[1;32m      5\u001b[0m     \u001b[0mdataframes_ex1\u001b[0m \u001b[0;34m=\u001b[0m \u001b[0mpd\u001b[0m\u001b[0;34m.\u001b[0m\u001b[0mread_csv\u001b[0m\u001b[0;34m(\u001b[0m\u001b[0;34m\"Experiment_1-results/\"\u001b[0m \u001b[0;34m+\u001b[0m \u001b[0mfilename\u001b[0m\u001b[0;34m)\u001b[0m\u001b[0;34m\u001b[0m\u001b[0;34m\u001b[0m\u001b[0m\n\u001b[1;32m      6\u001b[0m     \u001b[0mdataframes_ex1\u001b[0m\u001b[0;34m[\u001b[0m\u001b[0;34m'Run'\u001b[0m\u001b[0;34m]\u001b[0m \u001b[0;34m=\u001b[0m \u001b[0mindex\u001b[0m\u001b[0;34m\u001b[0m\u001b[0;34m\u001b[0m\u001b[0m\n",
      "\u001b[0;31mNameError\u001b[0m: name 'newlist' is not defined"
     ]
    }
   ],
   "source": [
    "# Here we iterate through each csv and turn it into a dataframe.\n",
    "index = 0\n",
    "data = pd.DataFrame()\n",
    "for filename in newlist:\n",
    "    dataframes_ex1 = pd.read_csv(\"Experiment_1-results/\" + filename)\n",
    "    dataframes_ex1['Run'] = index\n",
    "    data = pd.concat([data, dataframes_ex1], sort=False)\n",
    "    #print(index)\n",
    "    index = index + 1\n",
    "    "
   ]
  },
  {
   "cell_type": "code",
   "execution_count": 6,
   "metadata": {},
   "outputs": [],
   "source": [
    "# Get the last 5 rows for each .csv and create column with each stating which sample it is from.\n",
    "exp1 = \"Experiment_1-results/\"\n",
    "exp2 = \"Experiment_2-results/\"\n",
    "exp3 = \"Experiment_3-results/\"\n",
    "exp4 = \"Experiment_4-results/\"\n",
    "\n",
    "def concatenate_data(list_of_filenames, exp):\n",
    "    index = 0\n",
    "    data_new = pd.DataFrame()\n",
    "    for filename in list_of_filenames:\n",
    "        dataframes_ex = pd.read_csv(exp + filename)\n",
    "        dataframes_ex = dataframes_ex.tail()\n",
    "        dataframes_ex['Run'] = index\n",
    "        data_new = pd.concat([data_new, dataframes_ex], sort=False)\n",
    "        #print(index)\n",
    "        index = index + 1\n",
    "        \n",
    "    return data_new\n",
    "\n",
    "experiment1_dataframe = concatenate_data(newlist_ex1, exp1)\n",
    "experiment2_dataframe = concatenate_data(newlist_ex2, exp2)\n",
    "experiment3_dataframe = concatenate_data(newlist_ex3, exp3)\n",
    "experiment4_dataframe = concatenate_data(newlist_ex4, exp4)"
   ]
  },
  {
   "cell_type": "markdown",
   "metadata": {},
   "source": [
    "\n",
    "## 20 minutes produced 5880 rows of data per run for 50 runs = 294000 rows across all experiments"
   ]
  },
  {
   "cell_type": "code",
   "execution_count": 8,
   "metadata": {},
   "outputs": [
    {
     "ename": "NameError",
     "evalue": "name 'data' is not defined",
     "output_type": "error",
     "traceback": [
      "\u001b[0;31m---------------------------------------------------------------------------\u001b[0m",
      "\u001b[0;31mNameError\u001b[0m                                 Traceback (most recent call last)",
      "\u001b[0;32m<ipython-input-8-6208d269f320>\u001b[0m in \u001b[0;36m<module>\u001b[0;34m()\u001b[0m\n\u001b[0;32m----> 1\u001b[0;31m \u001b[0mdata\u001b[0m\u001b[0;34m.\u001b[0m\u001b[0minfo\u001b[0m\u001b[0;34m(\u001b[0m\u001b[0;34m)\u001b[0m\u001b[0;34m\u001b[0m\u001b[0m\n\u001b[0m",
      "\u001b[0;31mNameError\u001b[0m: name 'data' is not defined"
     ]
    }
   ],
   "source": [
    "data.info()"
   ]
  },
  {
   "cell_type": "code",
   "execution_count": 7,
   "metadata": {},
   "outputs": [],
   "source": [
    "# storing the last 5 rows which holds the total points gained by each agent to create a graph to display all results.\n",
    "# Drop all columns that we don't need.\n",
    "columns = [\"AgentID\", \"Velocity\", \"xAxisPos\", \"zAxisPos\", \"touchedWall\", \"date-time\"]\n",
    "experiment1_mc1dataframe = experiment1_dataframe.drop(columns, 1)\n",
    "experiment1_mc2dataframe = experiment2_dataframe.drop(columns, 1)\n",
    "experiment2_mc1dataframe = experiment3_dataframe.drop(columns, 1)\n",
    "experiment2_mc2dataframe = experiment2_dataframe.drop(columns, 1)\n",
    "experiment2_mc3dataframe = experiment4_dataframe.drop(columns, 1)"
   ]
  },
  {
   "cell_type": "code",
   "execution_count": 8,
   "metadata": {},
   "outputs": [],
   "source": [
    "#data = data.rename(columns={\"GoodPointAmount\": \"PositivePointAmount\", \"BadPointAmount\": \"NegativePointAmount\"})\n",
    "experiment1_mc1dataframe = experiment1_mc1dataframe.rename(columns={\"GoodPointAmount\": \"PositivePointAmount\", \"BadPointAmount\": \"NegativePointAmount\", \"seenBySnatcher\": \"seenByPredator\"})\n",
    "experiment1_mc2dataframe = experiment1_mc2dataframe.rename(columns={\"GoodPointAmount\": \"PositivePointAmount\", \"BadPointAmount\": \"NegativePointAmount\", \"seenBySnatcher\": \"seenByPredator\"})\n",
    "experiment2_mc1dataframe = experiment2_mc1dataframe.rename(columns={\"GoodPointAmount\": \"PositivePointAmount\", \"BadPointAmount\": \"NegativePointAmount\", \"seenBySnatcher\": \"seenByPredator\"})\n",
    "experiment2_mc2dataframe = experiment2_mc2dataframe.rename(columns={\"GoodPointAmount\": \"PositivePointAmount\", \"BadPointAmount\": \"NegativePointAmount\", \"seenBySnatcher\": \"seenByPredator\"})\n",
    "experiment2_mc3dataframe = experiment2_mc3dataframe.rename(columns={\"GoodPointAmount\": \"PositivePointAmount\", \"BadPointAmount\": \"NegativePointAmount\", \"seenBySnatcher\": \"seenByPredator\"})\n",
    "\n",
    "experiment1_mc1dataframe['Experiment'] = 11\n",
    "experiment1_mc2dataframe['Experiment'] = 12\n",
    "experiment2_mc1dataframe['Experiment'] = 21\n",
    "experiment2_mc2dataframe['Experiment'] = 22\n",
    "experiment2_mc3dataframe['Experiment'] = 23\n",
    "\n",
    "# experiment1_dataframe['positive-negative point'] = experiment1_dataframe['PositivePointAmount'] - experiment1_dataframe['NegativePointAmount']\n",
    "# experiment2_dataframe['positive-negative point'] = experiment2_dataframe['PositivePointAmount'] - experiment2_dataframe['NegativePointAmount']\n",
    "# experiment3_dataframe['positive-negative point'] = experiment3_dataframe['PositivePointAmount'] - experiment3_dataframe['NegativePointAmount']\n",
    "# experiment4_dataframe['positive-negative point'] = experiment4_dataframe['PositivePointAmount'] - experiment4_dataframe['NegativePointAmount']"
   ]
  },
  {
   "cell_type": "code",
   "execution_count": 11,
   "metadata": {},
   "outputs": [
    {
     "data": {
      "image/png": "[encoded data removed]",
      "text/plain": [
       "<Figure size 842.4x595.44 with 1 Axes>"
      ]
     },
     "metadata": {
      "needs_background": "light"
     },
     "output_type": "display_data"
    }
   ],
   "source": [
    "a4_dims = (11.7, 8.27)\n",
    "fig, ax = plt.subplots(figsize=a4_dims)"
   ]
  },
  {
   "cell_type": "code",
   "execution_count": 9,
   "metadata": {},
   "outputs": [],
   "source": [
    "# This is where we calculate the task efficiency columns and condense the dataframes to sum the number of experiments per run.\n",
    "experiment1_mc1dataframe = experiment1_mc1dataframe.groupby(['Run']).sum()\n",
    "experiment1_mc2dataframe = experiment1_mc2dataframe.groupby(['Run']).sum()\n",
    "experiment2_mc1dataframe = experiment2_mc1dataframe.groupby(['Run']).sum()\n",
    "experiment2_mc2dataframe = experiment2_mc2dataframe.groupby(['Run']).sum()\n",
    "experiment2_mc3dataframe = experiment2_mc3dataframe.groupby(['Run']).sum()"
   ]
  },
  {
   "cell_type": "code",
   "execution_count": 10,
   "metadata": {},
   "outputs": [],
   "source": [
    "experiment1_mc1dataframe['taskEfficiencyTwoPNP'] = experiment1_mc1dataframe['PositivePointAmount'] - (experiment1_mc1dataframe['NegativePointAmount'] * 0.2) - (experiment1_mc1dataframe['seenByPredator'] * 1)\n",
    "experiment1_mc1dataframe['taskEfficiencyOnePN'] = experiment1_mc1dataframe['PositivePointAmount'] - (experiment1_mc1dataframe['NegativePointAmount'] * 0.2)\n",
    "\n",
    "experiment1_mc2dataframe['taskEfficiencyTwoPNP'] = experiment1_mc2dataframe['PositivePointAmount'] - (experiment1_mc2dataframe['NegativePointAmount'] * 0.2) - (experiment1_mc2dataframe['seenByPredator'] * 1)\n",
    "experiment1_mc2dataframe['taskEfficiencyOnePN'] = experiment1_mc2dataframe['PositivePointAmount'] - (experiment1_mc2dataframe['NegativePointAmount'] * 0.2)\n",
    "\n",
    "experiment2_mc1dataframe['taskEfficiencyTwoPNP'] = experiment2_mc1dataframe['PositivePointAmount'] - (experiment2_mc1dataframe['NegativePointAmount'] * 0.2) - (0)\n",
    "experiment2_mc1dataframe['taskEfficiencyOnePN'] = experiment2_mc1dataframe['PositivePointAmount'] - (experiment2_mc1dataframe['NegativePointAmount'] * 0.2)\n",
    "\n",
    "experiment2_mc2dataframe['taskEfficiencyTwoPNP'] = experiment2_mc2dataframe['PositivePointAmount'] - (experiment2_mc2dataframe['NegativePointAmount'] * 0.2) - (experiment2_mc2dataframe['seenByPredator'] * 1)\n",
    "experiment2_mc2dataframe['taskEfficiencyOnePN'] = experiment2_mc2dataframe['PositivePointAmount'] - (experiment2_mc2dataframe['NegativePointAmount'] * 0.2)\n",
    "\n",
    "experiment2_mc3dataframe['taskEfficiencyTwoPNP'] = experiment2_mc3dataframe['PositivePointAmount'] - (experiment2_mc3dataframe['NegativePointAmount'] * 0.2) - (experiment2_mc3dataframe['seenByPredator'] * 1)\n",
    "experiment2_mc3dataframe['taskEfficiencyOnePN'] = experiment2_mc3dataframe['PositivePointAmount'] - (experiment2_mc3dataframe['NegativePointAmount'] * 0.2)\n",
    "\n",
    "\n"
   ]
  },
  {
   "cell_type": "code",
   "execution_count": 13,
   "metadata": {},
   "outputs": [
    {
     "data": {
      "text/html": [
       "<div>\n",
       "<style scoped>\n",
       "    .dataframe tbody tr th:only-of-type {\n",
       "        vertical-align: middle;\n",
       "    }\n",
       "\n",
       "    .dataframe tbody tr th {\n",
       "        vertical-align: top;\n",
       "    }\n",
       "\n",
       "    .dataframe thead th {\n",
       "        text-align: right;\n",
       "    }\n",
       "</style>\n",
       "<table border=\"1\" class=\"dataframe\">\n",
       "  <thead>\n",
       "    <tr style=\"text-align: right;\">\n",
       "      <th></th>\n",
       "      <th>PositivePointAmount</th>\n",
       "      <th>NegativePointAmount</th>\n",
       "      <th>seenByPredator</th>\n",
       "      <th>update</th>\n",
       "      <th>Experiment</th>\n",
       "      <th>taskEfficiencyTwoPNP</th>\n",
       "      <th>taskEfficiencyOnePN</th>\n",
       "    </tr>\n",
       "    <tr>\n",
       "      <th>Run</th>\n",
       "      <th></th>\n",
       "      <th></th>\n",
       "      <th></th>\n",
       "      <th></th>\n",
       "      <th></th>\n",
       "      <th></th>\n",
       "      <th></th>\n",
       "    </tr>\n",
       "  </thead>\n",
       "  <tbody>\n",
       "    <tr>\n",
       "      <th>0</th>\n",
       "      <td>1509</td>\n",
       "      <td>522</td>\n",
       "      <td>86</td>\n",
       "      <td>299875</td>\n",
       "      <td>115</td>\n",
       "      <td>1318.6</td>\n",
       "      <td>1404.6</td>\n",
       "    </tr>\n",
       "    <tr>\n",
       "      <th>1</th>\n",
       "      <td>1537</td>\n",
       "      <td>572</td>\n",
       "      <td>93</td>\n",
       "      <td>299875</td>\n",
       "      <td>115</td>\n",
       "      <td>1329.6</td>\n",
       "      <td>1422.6</td>\n",
       "    </tr>\n",
       "    <tr>\n",
       "      <th>2</th>\n",
       "      <td>1635</td>\n",
       "      <td>507</td>\n",
       "      <td>95</td>\n",
       "      <td>299875</td>\n",
       "      <td>115</td>\n",
       "      <td>1438.6</td>\n",
       "      <td>1533.6</td>\n",
       "    </tr>\n",
       "    <tr>\n",
       "      <th>3</th>\n",
       "      <td>1469</td>\n",
       "      <td>539</td>\n",
       "      <td>99</td>\n",
       "      <td>299875</td>\n",
       "      <td>115</td>\n",
       "      <td>1262.2</td>\n",
       "      <td>1361.2</td>\n",
       "    </tr>\n",
       "    <tr>\n",
       "      <th>4</th>\n",
       "      <td>1471</td>\n",
       "      <td>474</td>\n",
       "      <td>99</td>\n",
       "      <td>299875</td>\n",
       "      <td>115</td>\n",
       "      <td>1277.2</td>\n",
       "      <td>1376.2</td>\n",
       "    </tr>\n",
       "  </tbody>\n",
       "</table>\n",
       "</div>"
      ],
      "text/plain": [
       "     PositivePointAmount  NegativePointAmount  seenByPredator  update  \\\n",
       "Run                                                                     \n",
       "0                   1509                  522              86  299875   \n",
       "1                   1537                  572              93  299875   \n",
       "2                   1635                  507              95  299875   \n",
       "3                   1469                  539              99  299875   \n",
       "4                   1471                  474              99  299875   \n",
       "\n",
       "     Experiment  taskEfficiencyTwoPNP  taskEfficiencyOnePN  \n",
       "Run                                                         \n",
       "0           115                1318.6               1404.6  \n",
       "1           115                1329.6               1422.6  \n",
       "2           115                1438.6               1533.6  \n",
       "3           115                1262.2               1361.2  \n",
       "4           115                1277.2               1376.2  "
      ]
     },
     "execution_count": 13,
     "metadata": {},
     "output_type": "execute_result"
    }
   ],
   "source": [
    "experiment2_mc3dataframe.head()"
   ]
  },
  {
   "cell_type": "code",
   "execution_count": 11,
   "metadata": {},
   "outputs": [],
   "source": [
    "dataframes = [experiment1_mc1dataframe, experiment1_mc2dataframe, experiment2_mc1dataframe, experiment2_mc2dataframe, experiment2_mc3dataframe ]\n",
    "result = pd.concat(dataframes, sort=False)\n"
   ]
  },
  {
   "cell_type": "code",
   "execution_count": 42,
   "metadata": {},
   "outputs": [
    {
     "data": {
      "text/plain": [
       "207.312"
      ]
     },
     "execution_count": 42,
     "metadata": {},
     "output_type": "execute_result"
    }
   ],
   "source": [
    "# Mean of an experiment\n",
    "mean(new_experiment1_dataframe['taskEfficiencyTwoPNP'])"
   ]
  },
  {
   "cell_type": "code",
   "execution_count": 43,
   "metadata": {},
   "outputs": [
    {
     "data": {
      "text/plain": [
       "33.835307244452956"
      ]
     },
     "execution_count": 43,
     "metadata": {},
     "output_type": "execute_result"
    }
   ],
   "source": [
    "# Standard deviation of an experiment\n",
    "new_experiment1_dataframe['taskEfficiencyTwoPNP'].std()"
   ]
  },
  {
   "cell_type": "code",
   "execution_count": 21,
   "metadata": {
    "scrolled": true
   },
   "outputs": [
    {
     "data": {
      "text/plain": [
       "<Figure size 720x576 with 0 Axes>"
      ]
     },
     "metadata": {},
     "output_type": "display_data"
    },
    {
     "data": {
      "image/png": "[encoded data removed]",
      "text/plain": [
       "<Figure size 1440x288 with 5 Axes>"
      ]
     },
     "metadata": {},
     "output_type": "display_data"
    }
   ],
   "source": [
    "sb.set_style(\"whitegrid\")\n",
    "plt.figure(figsize=(10, 8))\n",
    "variable = 'taskEfficiencyTwoPNP'\n",
    "b_width = 50  # chose an arbitrary value here\n",
    "my_bins = np.arange(min(result[variable]), max(result[variable]) + b_width, b_width)\n",
    "\n",
    "g = sb.FacetGrid(result, col=\"Experiment\", height=4, palette=\"colorblind\")\n",
    "g.map(plt.hist, variable, bins=my_bins)\n",
    "axes = g.axes.flatten()\n",
    "axes[0].set_ylabel(\"Count\")\n",
    "for ax in axes:\n",
    "    ax.set_xlabel(\"Task Efficiency Measure\")\n",
    "    \n",
    "for ax, title in zip(g.axes.flat, ['Experiment 1, Model Condition 1', 'Experiment 1, Model Condition 2', 'Experiment 2, Model Condition 1', 'Experiment 2, Model Condition 2', 'Experiment 2, Model Condition 3']):\n",
    "    ax.set_title(title)\n",
    "\n",
    "g.fig.tight_layout()\n",
    "plt.savefig('TaskEfficiencyTwoComparisonAcrossExperimentsAndMC.png')"
   ]
  },
  {
   "cell_type": "code",
   "execution_count": 16,
   "metadata": {},
   "outputs": [
    {
     "ename": "NameError",
     "evalue": "name 'new_experiment2_dataframe' is not defined",
     "output_type": "error",
     "traceback": [
      "\u001b[0;31m---------------------------------------------------------------------------\u001b[0m",
      "\u001b[0;31mNameError\u001b[0m                                 Traceback (most recent call last)",
      "\u001b[0;32m<ipython-input-16-87dfd81241cd>\u001b[0m in \u001b[0;36m<module>\u001b[0;34m()\u001b[0m\n\u001b[1;32m      1\u001b[0m \u001b[0;31m# Analysis of Variance Test ANOVA\u001b[0m\u001b[0;34m\u001b[0m\u001b[0;34m\u001b[0m\u001b[0m\n\u001b[1;32m      2\u001b[0m \u001b[0;32mfrom\u001b[0m \u001b[0mscipy\u001b[0m\u001b[0;34m.\u001b[0m\u001b[0mstats\u001b[0m \u001b[0;32mimport\u001b[0m \u001b[0mf_oneway\u001b[0m\u001b[0;34m\u001b[0m\u001b[0m\n\u001b[0;32m----> 3\u001b[0;31m \u001b[0mstat\u001b[0m\u001b[0;34m,\u001b[0m \u001b[0mp\u001b[0m \u001b[0;34m=\u001b[0m \u001b[0mf_oneway\u001b[0m\u001b[0;34m(\u001b[0m\u001b[0mnew_experiment2_dataframe\u001b[0m\u001b[0;34m[\u001b[0m\u001b[0;34m'taskEfficiencyTwoPNP'\u001b[0m\u001b[0;34m]\u001b[0m\u001b[0;34m,\u001b[0m \u001b[0mnew_experiment3_dataframe\u001b[0m\u001b[0;34m[\u001b[0m\u001b[0;34m'taskEfficiencyTwoPNP'\u001b[0m\u001b[0;34m]\u001b[0m\u001b[0;34m)\u001b[0m\u001b[0;34m\u001b[0m\u001b[0m\n\u001b[0m\u001b[1;32m      4\u001b[0m \u001b[0;32mprint\u001b[0m\u001b[0;34m(\u001b[0m\u001b[0;34m'stat=%.3f, p=%.3f'\u001b[0m \u001b[0;34m%\u001b[0m \u001b[0;34m(\u001b[0m\u001b[0mstat\u001b[0m\u001b[0;34m,\u001b[0m \u001b[0mp\u001b[0m\u001b[0;34m)\u001b[0m\u001b[0;34m)\u001b[0m\u001b[0;34m\u001b[0m\u001b[0m\n\u001b[1;32m      5\u001b[0m \u001b[0;32mif\u001b[0m \u001b[0mp\u001b[0m \u001b[0;34m>\u001b[0m \u001b[0;36m0.05\u001b[0m\u001b[0;34m:\u001b[0m\u001b[0;34m\u001b[0m\u001b[0m\n",
      "\u001b[0;31mNameError\u001b[0m: name 'new_experiment2_dataframe' is not defined"
     ]
    }
   ],
   "source": [
    "# Analysis of Variance Test ANOVA\n",
    "from scipy.stats import f_oneway\n",
    "stat, p = f_oneway(new_experiment2_dataframe['taskEfficiencyTwoPNP'], new_experiment3_dataframe['taskEfficiencyTwoPNP'])\n",
    "print('stat=%.3f, p=%.3f' % (stat, p))\n",
    "if p > 0.05:\n",
    "    print('Probably the same distribution')\n",
    "else:\n",
    "    print('Probably different distributions')"
   ]
  },
  {
   "cell_type": "code",
   "execution_count": 53,
   "metadata": {},
   "outputs": [
    {
     "data": {
      "text/plain": [
       "Text(0, 0.5, 'Density')"
      ]
     },
     "execution_count": 53,
     "metadata": {},
     "output_type": "execute_result"
    },
    {
     "data": {
      "image/png": "[encoded data removed]",
      "text/plain": [
       "<Figure size 1152x576 with 1 Axes>"
      ]
     },
     "metadata": {
      "needs_background": "light"
     },
     "output_type": "display_data"
    }
   ],
   "source": [
    "%matplotlib inline\n",
    "plt.figure(figsize=(16, 8))\n",
    "sb.kdeplot(data['PositivePointAmount'], shade=True, color=\"r\")\n",
    "#plt.title('Kernel Density Estimation of Positive Point Amount over 50 runs for Experiment 1', fontsize=20)\n",
    "plt.xlabel('Positive Point Amount', fontsize=15)\n",
    "plt.ylabel('Density', fontsize=15)"
   ]
  },
  {
   "cell_type": "code",
   "execution_count": 54,
   "metadata": {},
   "outputs": [
    {
     "data": {
      "text/plain": [
       "Text(0, 0.5, 'Density')"
      ]
     },
     "execution_count": 54,
     "metadata": {},
     "output_type": "execute_result"
    },
    {
     "data": {
      "image/png": "[encoded data removed]",
      "text/plain": [
       "<Figure size 1440x576 with 1 Axes>"
      ]
     },
     "metadata": {},
     "output_type": "display_data"
    }
   ],
   "source": [
    "%matplotlib inline\n",
    "sb.set_style(\"whitegrid\")\n",
    "plt.figure(figsize=(20, 8))\n",
    "sb.distplot(data['PositivePointAmount'], hist=True, kde=True)\n",
    "#plt.title('Kernel Density Estimation of Positive Point Amount over 50 runs for Experiment 1', fontsize=20)\n",
    "plt.xlabel('Positive Point Amount', fontsize=15)\n",
    "plt.ylabel('Density', fontsize=15)\n",
    "#plt.savefig('experiment3_50Samples_KernelDensityEstimation.png')"
   ]
  },
  {
   "cell_type": "code",
   "execution_count": 56,
   "metadata": {},
   "outputs": [
    {
     "name": "stdout",
     "output_type": "stream",
     "text": [
      "Experiment 4 Sum of Positive Point Amount over all samples 73831\n"
     ]
    }
   ],
   "source": [
    "# 5 agents over 50 samples = 250 rows\n",
    "print(\"Experiment 4 Sum of Positive Point Amount over all samples\", data_new['PositivePointAmount'].sum())"
   ]
  },
  {
   "cell_type": "code",
   "execution_count": 17,
   "metadata": {},
   "outputs": [
    {
     "data": {
      "text/plain": [
       "count    294000.000000\n",
       "mean         32.949636\n",
       "std          20.580483\n",
       "min           0.000000\n",
       "25%          16.000000\n",
       "50%          31.000000\n",
       "75%          48.000000\n",
       "max         105.000000\n",
       "Name: PositivePointAmount, dtype: float64"
      ]
     },
     "execution_count": 17,
     "metadata": {},
     "output_type": "execute_result"
    }
   ],
   "source": [
    "data['PositivePointAmount'].describe()"
   ]
  },
  {
   "cell_type": "code",
   "execution_count": 183,
   "metadata": {},
   "outputs": [],
   "source": [
    "from scipy.stats import f_oneway\n",
    "from scipy.stats import ttest_ind"
   ]
  },
  {
   "cell_type": "code",
   "execution_count": 184,
   "metadata": {},
   "outputs": [
    {
     "name": "stdout",
     "output_type": "stream",
     "text": [
      "Statistics=37.851241194110549770357465604320168495178222656250000000000000, p=0.000000000000000000000000000000000000000000000000000000000000\n",
      "Different distributions (reject H0)\n"
     ]
    }
   ],
   "source": [
    "PositivePoint_and_runs = data[['PositivePointAmount', 'Run']]\n",
    "NegativePoint_and_runs = data[['NegativePointAmount', 'Run']]\n",
    "\n",
    "#stat, p = f_oneway(PositivePoint_and_runs['PositivePointAmount'][PositivePoint_and_runs['Run'] == 0], PositivePoint_and_runs['PositivePointAmount'][PositivePoint_and_runs['Run'] == 1],\n",
    "#                  PositivePoint_and_runs['PositivePointAmount'][PositivePoint_and_runs['Run'] == 2], PositivePoint_and_runs['PositivePointAmount'][PositivePoint_and_runs['Run'] == 3],\n",
    "#                  PositivePoint_and_runs['PositivePointAmount'][PositivePoint_and_runs['Run'] == 4], PositivePoint_and_runs['PositivePointAmount'][PositivePoint_and_runs['Run'] == 5])\n",
    "\n",
    "\n",
    "# Dependent t-test, N samples from the same population pre and post change i.e. each run a random start.\n",
    "stat, p = ttest_rel(PositivePoint_and_runs['PositivePointAmount'][PositivePoint_and_runs['Run'] == 0], PositivePoint_and_runs['PositivePointAmount'][PositivePoint_and_runs['Run'] == 49])\n",
    "print('Statistics=%.60f, p=%.60f' % (stat, p))\n",
    "# interpret\n",
    "alpha = 0.05\n",
    "if p > alpha:\n",
    "    print('Same distributions (fail to reject H0)')\n",
    "else:\n",
    "    print('Different distributions (reject H0)')\n",
    "    \n",
    "# If reject the Null hypothesis, the data favors the alternative hypothesis. Congratulations! Your results are statistically significant."
   ]
  },
  {
   "cell_type": "code",
   "execution_count": 185,
   "metadata": {},
   "outputs": [],
   "source": [
    "import statsmodels.api as sm\n",
    "from statsmodels.formula.api import ols"
   ]
  },
  {
   "cell_type": "code",
   "execution_count": 188,
   "metadata": {},
   "outputs": [
    {
     "data": {
      "image/png": "[encoded data removed]",
      "text/plain": [
       "<Figure size 1440x576 with 1 Axes>"
      ]
     },
     "metadata": {},
     "output_type": "display_data"
    }
   ],
   "source": [
    "%matplotlib inline\n",
    "\n",
    "sb.set_style(\"whitegrid\")\n",
    "plt.figure(figsize=(20, 8))\n",
    "sb.boxplot(x=\"Run\", y=\"PositivePointAmount\", data=PositivePoint_and_runs, palette=\"colorblind\")\n",
    "\n",
    "plt.xlabel('Sample', fontsize=15)\n",
    "plt.ylabel('Positive Point Amount', fontsize=15)\n",
    "plt.savefig('experiment3_50Samples_boxplot.png')"
   ]
  },
  {
   "cell_type": "code",
   "execution_count": 189,
   "metadata": {},
   "outputs": [
    {
     "data": {
      "text/html": [
       "<table class=\"simpletable\">\n",
       "<caption>OLS Regression Results</caption>\n",
       "<tr>\n",
       "  <th>Dep. Variable:</th>    <td>PositivePointAmount</td> <th>  R-squared:         </th>  <td>   0.000</td>  \n",
       "</tr>\n",
       "<tr>\n",
       "  <th>Model:</th>                    <td>OLS</td>         <th>  Adj. R-squared:    </th>  <td>   0.000</td>  \n",
       "</tr>\n",
       "<tr>\n",
       "  <th>Method:</th>              <td>Least Squares</td>    <th>  F-statistic:       </th>  <td>   63.79</td>  \n",
       "</tr>\n",
       "<tr>\n",
       "  <th>Date:</th>              <td>Thu, 01 Oct 2020</td>   <th>  Prob (F-statistic):</th>  <td>1.39e-15</td>  \n",
       "</tr>\n",
       "<tr>\n",
       "  <th>Time:</th>                  <td>11:45:21</td>       <th>  Log-Likelihood:    </th> <td>-1.7265e+06</td>\n",
       "</tr>\n",
       "<tr>\n",
       "  <th>No. Observations:</th>       <td>294000</td>        <th>  AIC:               </th>  <td>3.453e+06</td> \n",
       "</tr>\n",
       "<tr>\n",
       "  <th>Df Residuals:</th>           <td>293998</td>        <th>  BIC:               </th>  <td>3.453e+06</td> \n",
       "</tr>\n",
       "<tr>\n",
       "  <th>Df Model:</th>               <td>     1</td>        <th>                     </th>      <td> </td>     \n",
       "</tr>\n",
       "<tr>\n",
       "  <th>Covariance Type:</th>       <td>nonrobust</td>      <th>                     </th>      <td> </td>     \n",
       "</tr>\n",
       "</table>\n",
       "<table class=\"simpletable\">\n",
       "<tr>\n",
       "      <td></td>         <th>coef</th>     <th>std err</th>      <th>t</th>      <th>P>|t|</th>  <th>[0.025</th>    <th>0.975]</th>  \n",
       "</tr>\n",
       "<tr>\n",
       "  <th>Intercept</th> <td>  150.8510</td> <td>    0.312</td> <td>  483.151</td> <td> 0.000</td> <td>  150.239</td> <td>  151.463</td>\n",
       "</tr>\n",
       "<tr>\n",
       "  <th>Run</th>       <td>   -0.0877</td> <td>    0.011</td> <td>   -7.987</td> <td> 0.000</td> <td>   -0.109</td> <td>   -0.066</td>\n",
       "</tr>\n",
       "</table>\n",
       "<table class=\"simpletable\">\n",
       "<tr>\n",
       "  <th>Omnibus:</th>       <td>64774.393</td> <th>  Durbin-Watson:     </th> <td>   0.104</td> \n",
       "</tr>\n",
       "<tr>\n",
       "  <th>Prob(Omnibus):</th>  <td> 0.000</td>   <th>  Jarque-Bera (JB):  </th> <td>12838.361</td>\n",
       "</tr>\n",
       "<tr>\n",
       "  <th>Skew:</th>           <td> 0.131</td>   <th>  Prob(JB):          </th> <td>    0.00</td> \n",
       "</tr>\n",
       "<tr>\n",
       "  <th>Kurtosis:</th>       <td> 2.010</td>   <th>  Cond. No.          </th> <td>    56.1</td> \n",
       "</tr>\n",
       "</table><br/><br/>Warnings:<br/>[1] Standard Errors assume that the covariance matrix of the errors is correctly specified."
      ],
      "text/plain": [
       "<class 'statsmodels.iolib.summary.Summary'>\n",
       "\"\"\"\n",
       "                             OLS Regression Results                            \n",
       "===============================================================================\n",
       "Dep. Variable:     PositivePointAmount   R-squared:                       0.000\n",
       "Model:                             OLS   Adj. R-squared:                  0.000\n",
       "Method:                  Least Squares   F-statistic:                     63.79\n",
       "Date:                 Thu, 01 Oct 2020   Prob (F-statistic):           1.39e-15\n",
       "Time:                         11:45:21   Log-Likelihood:            -1.7265e+06\n",
       "No. Observations:               294000   AIC:                         3.453e+06\n",
       "Df Residuals:                   293998   BIC:                         3.453e+06\n",
       "Df Model:                            1                                         \n",
       "Covariance Type:             nonrobust                                         \n",
       "==============================================================================\n",
       "                 coef    std err          t      P>|t|      [0.025      0.975]\n",
       "------------------------------------------------------------------------------\n",
       "Intercept    150.8510      0.312    483.151      0.000     150.239     151.463\n",
       "Run           -0.0877      0.011     -7.987      0.000      -0.109      -0.066\n",
       "==============================================================================\n",
       "Omnibus:                    64774.393   Durbin-Watson:                   0.104\n",
       "Prob(Omnibus):                  0.000   Jarque-Bera (JB):            12838.361\n",
       "Skew:                           0.131   Prob(JB):                         0.00\n",
       "Kurtosis:                       2.010   Cond. No.                         56.1\n",
       "==============================================================================\n",
       "\n",
       "Warnings:\n",
       "[1] Standard Errors assume that the covariance matrix of the errors is correctly specified.\n",
       "\"\"\""
      ]
     },
     "execution_count": 189,
     "metadata": {},
     "output_type": "execute_result"
    }
   ],
   "source": [
    "mod = ols('PositivePointAmount ~ Run', data = PositivePoint_and_runs).fit()\n",
    "mod.summary()"
   ]
  },
  {
   "cell_type": "code",
   "execution_count": 190,
   "metadata": {},
   "outputs": [
    {
     "name": "stdout",
     "output_type": "stream",
     "text": [
      "Overall model F( 1, 293998) =  63.786617087931389846744423266500, p =  0.000000000000001391477541221241\n"
     ]
    }
   ],
   "source": [
    "print(f\"Overall model F({mod.df_model: .0f},{mod.df_resid: .0f}) = {mod.fvalue: .30f}, p = {mod.f_pvalue: .30f}\")"
   ]
  },
  {
   "cell_type": "code",
   "execution_count": 191,
   "metadata": {},
   "outputs": [],
   "source": [
    "res = sm.stats.anova_lm(mod, typ= 2)"
   ]
  },
  {
   "cell_type": "code",
   "execution_count": 192,
   "metadata": {},
   "outputs": [
    {
     "data": {
      "text/html": [
       "<div>\n",
       "<style scoped>\n",
       "    .dataframe tbody tr th:only-of-type {\n",
       "        vertical-align: middle;\n",
       "    }\n",
       "\n",
       "    .dataframe tbody tr th {\n",
       "        vertical-align: top;\n",
       "    }\n",
       "\n",
       "    .dataframe thead th {\n",
       "        text-align: right;\n",
       "    }\n",
       "</style>\n",
       "<table border=\"1\" class=\"dataframe\">\n",
       "  <thead>\n",
       "    <tr style=\"text-align: right;\">\n",
       "      <th></th>\n",
       "      <th>sum_sq</th>\n",
       "      <th>df</th>\n",
       "      <th>F</th>\n",
       "      <th>PR(&gt;F)</th>\n",
       "    </tr>\n",
       "  </thead>\n",
       "  <tbody>\n",
       "    <tr>\n",
       "      <th>Run</th>\n",
       "      <td>4.708835e+05</td>\n",
       "      <td>1.0</td>\n",
       "      <td>63.786617</td>\n",
       "      <td>1.391478e-15</td>\n",
       "    </tr>\n",
       "    <tr>\n",
       "      <th>Residual</th>\n",
       "      <td>2.170342e+09</td>\n",
       "      <td>293998.0</td>\n",
       "      <td>NaN</td>\n",
       "      <td>NaN</td>\n",
       "    </tr>\n",
       "  </tbody>\n",
       "</table>\n",
       "</div>"
      ],
      "text/plain": [
       "                sum_sq        df          F        PR(>F)\n",
       "Run       4.708835e+05       1.0  63.786617  1.391478e-15\n",
       "Residual  2.170342e+09  293998.0        NaN           NaN"
      ]
     },
     "execution_count": 192,
     "metadata": {},
     "output_type": "execute_result"
    }
   ],
   "source": [
    "res"
   ]
  },
  {
   "cell_type": "markdown",
   "metadata": {},
   "source": [
    "Simply put, if you have significant result, it means that your results likely did not happen by chance. If you don’t have statistically significant results, you throw your test data out (as it doesn’t show anything!); in other words, you can’t reject the null hypothesis.\n",
    "\n",
    "In general, if your calculated F value in a test is larger than your F statistic, you can reject the null hypothesis. However, the statistic is only one measure of significance in an F Test. You should also consider the p value. The p value is determined by the F statistic and is the probability your results could have happened by chance.\n",
    "\n",
    "The F value in one way ANOVA is a tool to help you answer the question “Is the variance between the means of two populations significantly different?” The F value in the ANOVA test also determines the P value; The P value is the probability of getting a result at least as extreme as the one that was actually observed, given that the null hypothesis is true.\n",
    "\n",
    "The p value is a probability, while the f ratio is a test statistic, calculated as:\n",
    "\n",
    "F value = variance of the group means (Mean Square Between) / mean of the within group variances (Mean Squared Error)"
   ]
  }
 ],
 "metadata": {
  "kernelspec": {
   "display_name": "Python 2",
   "language": "python",
   "name": "python2"
  },
  "language_info": {
   "codemirror_mode": {
    "name": "ipython",
    "version": 2
   },
   "file_extension": ".py",
   "mimetype": "text/x-python",
   "name": "python",
   "nbconvert_exporter": "python",
   "pygments_lexer": "ipython2",
   "version": "2.7.17"
  },
  "toc": {
   "base_numbering": 1,
   "nav_menu": {},
   "number_sections": true,
   "sideBar": true,
   "skip_h1_title": false,
   "title_cell": "Table of Contents",
   "title_sidebar": "Contents",
   "toc_cell": false,
   "toc_position": {},
   "toc_section_display": true,
   "toc_window_display": false
  }
 },
 "nbformat": 4,
 "nbformat_minor": 2
}
