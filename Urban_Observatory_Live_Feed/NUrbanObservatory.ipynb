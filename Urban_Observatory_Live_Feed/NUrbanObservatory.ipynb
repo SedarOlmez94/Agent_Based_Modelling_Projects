{
 "cells": [
  {
   "cell_type": "markdown",
   "metadata": {},
   "source": [
    "# Urban Observatory Newcastle University\n",
    "- Author: Sedar Olmez\n",
    "- Data source: http://newcastle.urbanobservatory.ac.uk/\n",
    "- Description: Try downloading live sensory data from Newcastle to gain insight on the movement of people across the city. This will then be part of a pipeline system that inputs the data into an agent based model to simulate. "
   ]
  },
  {
   "cell_type": "code",
   "execution_count": 3,
   "metadata": {
    "collapsed": false
   },
   "outputs": [
    {
     "ename": "ImportError",
     "evalue": "No module named 'pandas.plotting'",
     "output_type": "error",
     "traceback": [
      "\u001b[1;31m---------------------------------------------------------------------------\u001b[0m",
      "\u001b[1;31mImportError\u001b[0m                               Traceback (most recent call last)",
      "\u001b[1;32m<ipython-input-3-d6dc24db1f1a>\u001b[0m in \u001b[0;36m<module>\u001b[1;34m()\u001b[0m\n\u001b[0;32m      1\u001b[0m \u001b[1;32mimport\u001b[0m \u001b[0mpandas\u001b[0m\u001b[1;33m\u001b[0m\u001b[0m\n\u001b[1;32m----> 2\u001b[1;33m \u001b[1;32mfrom\u001b[0m \u001b[0mpandas\u001b[0m\u001b[1;33m.\u001b[0m\u001b[0mplotting\u001b[0m \u001b[1;32mimport\u001b[0m \u001b[0mregister_matplotlib_converters\u001b[0m\u001b[1;33m\u001b[0m\u001b[0m\n\u001b[0m\u001b[0;32m      3\u001b[0m \u001b[0mregister_matplotlib_converters\u001b[0m\u001b[1;33m(\u001b[0m\u001b[1;33m)\u001b[0m\u001b[1;33m\u001b[0m\u001b[0m\n",
      "\u001b[1;31mImportError\u001b[0m: No module named 'pandas.plotting'"
     ]
    }
   ],
   "source": [
    "from pandas.plotting import register_matplotlib_converters\n",
    "register_matplotlib_converters()"
   ]
  },
  {
   "cell_type": "code",
   "execution_count": null,
   "metadata": {
    "collapsed": true
   },
   "outputs": [],
   "source": [
    "import requests\n",
    "import pandas as pd\n",
    "import io"
   ]
  },
  {
   "cell_type": "code",
   "execution_count": null,
   "metadata": {
    "collapsed": true
   },
   "outputs": [],
   "source": [
    "def GeoJSON(data={}, metadata={}):\n",
    "    bundle = {\n",
    "            'application/geo+json': data,\n",
    "            'text/plain': '<IPython.display.GeoJSON object>'\n",
    "    }\n",
    "    metadata = {\n",
    "        'application/geo+json': metadata\n",
    "    }\n",
    "    display(bundle, metadata=metadata, raw=True)"
   ]
  },
  {
   "cell_type": "markdown",
   "metadata": {},
   "source": [
    "# Retrieve sensor information:"
   ]
  },
  {
   "cell_type": "code",
   "execution_count": null,
   "metadata": {
    "collapsed": false
   },
   "outputs": [],
   "source": [
    "sensor_params = dict(\n",
    "    sensor_type = 'Walking North'\n",
    ")\n",
    "\n",
    "r = requests.get('http://uoweb3.ncl.ac.uk/api/v1.1/sensors/csv/',sensor_params)\n",
    "\n",
    "sensor_info = pd.read_csv(io.StringIO(r.text) )\n",
    "sensor_info"
   ]
  },
  {
   "cell_type": "markdown",
   "metadata": {},
   "source": [
    "Now that we have all sensors of type Walking North. We can try get the data these sensors capture. "
   ]
  },
  {
   "cell_type": "code",
   "execution_count": null,
   "metadata": {
    "collapsed": true
   },
   "outputs": [],
   "source": [
    "# Time to plot the sensors on a map.\n",
    "import smopy\n",
    "import matplotlib.patheffects as pe"
   ]
  },
  {
   "cell_type": "code",
   "execution_count": null,
   "metadata": {
    "collapsed": false
   },
   "outputs": [],
   "source": [
    "black_box = (\n",
    "    min(sensor_info['Sensor Centroid Latitude']),\n",
    "    min(sensor_info['Sensor Centroid Longitude']),\n",
    "    max(sensor_info['Sensor Centroid Latitude']),\n",
    "    max(sensor_info['Sensor Centroid Longitude']),\n",
    ")\n",
    "\n",
    "map = smopy.Map(black_box, z = 17)\n",
    "ax = map.show_mpl(figsize=(15, 15))\n",
    "\n",
    "for i, row in sensor_info.iterrows():\n",
    "    x, y = map.to_pixels(row['Sensor Centroid Latitude'], row['Sensor Centroid Longitude'])\n",
    "    ax.plot(x, y, 'ob', ms = 20, mew = 2);"
   ]
  },
  {
   "cell_type": "markdown",
   "metadata": {},
   "source": [
    "# Setting up data parameters"
   ]
  },
  {
   "cell_type": "code",
   "execution_count": null,
   "metadata": {
    "collapsed": false
   },
   "outputs": [],
   "source": [
    "import datetime\n",
    "\n",
    "api_date_format = \"%Y%m%d%H%M%S\"\n",
    "\n",
    "start_time = datetime.datetime(2019, 9, 18, 0)\n",
    "end_time = datetime.datetime(2019, 9, 19)\n",
    "\n",
    "data_parameters = dict(\n",
    "    data_variable = 'Walking North',\n",
    "    agg_method = 'median',\n",
    "    agg_period = '5mins',\n",
    "    starttime = start_time.strftime(api_date_format),\n",
    "    endtime = end_time.strftime(api_date_format)\n",
    ")\n",
    "\n",
    "data_parameters.update(sensor_params)\n",
    "data_parameters"
   ]
  },
  {
   "cell_type": "markdown",
   "metadata": {},
   "source": [
    "**Get aggregated data**"
   ]
  },
  {
   "cell_type": "code",
   "execution_count": null,
   "metadata": {
    "collapsed": false
   },
   "outputs": [],
   "source": [
    "r = requests.get('http://uoweb3.ncl.ac.uk/api/v1.1/sensors/data/agg/csv/',data_parameters)\n",
    "r"
   ]
  },
  {
   "cell_type": "markdown",
   "metadata": {},
   "source": [
    "**Read the data into a dataframe**"
   ]
  },
  {
   "cell_type": "code",
   "execution_count": null,
   "metadata": {
    "collapsed": false,
    "scrolled": true
   },
   "outputs": [],
   "source": [
    "pedestrian_step_count_data = pd.read_csv(io.StringIO(r.text))\n",
    "pedestrian_step_count_data.head(10)"
   ]
  },
  {
   "cell_type": "markdown",
   "metadata": {},
   "source": [
    "**Plotting the data**"
   ]
  },
  {
   "cell_type": "code",
   "execution_count": null,
   "metadata": {
    "collapsed": false
   },
   "outputs": [],
   "source": [
    "%matplotlib inline\n",
    "import matplotlib.pyplot as plt\n",
    "\n",
    "fig, ax = plt.subplots(figsize=(30, 10))\n",
    "for sensor_name, sensor_data in pedestrian_step_count_data.groupby('Sensor Name'):\n",
    "    \n",
    "    datetimes = pd.to_datetime(sensor_data['Timestamp'])\n",
    "    plt.plot(datetimes, sensor_data['Value'], label = sensor_name)\n",
    "\n",
    "    plt.legend()"
   ]
  },
  {
   "cell_type": "markdown",
   "metadata": {},
   "source": [
    "**Plot of median**"
   ]
  },
  {
   "cell_type": "code",
   "execution_count": null,
   "metadata": {
    "collapsed": false
   },
   "outputs": [],
   "source": [
    "footfall_data_median = pedestrian_step_count_data.copy()\n",
    "footfall_data_median.index = pd.to_datetime(footfall_data_median['Timestamp'])\n",
    "footfall_data_median = footfall_data_median.resample('900s').median()\n",
    "\n",
    "fig, ax = plt.subplots(figsize=(30,10))\n",
    "\n",
    "plt.plot(footfall_data_median.index,footfall_data_median['Value'])\n",
    "\n",
    "plt.legend()"
   ]
  },
  {
   "cell_type": "code",
   "execution_count": null,
   "metadata": {
    "collapsed": false
   },
   "outputs": [],
   "source": [
    "sensor_data.info()"
   ]
  },
  {
   "cell_type": "code",
   "execution_count": null,
   "metadata": {
    "collapsed": true
   },
   "outputs": [],
   "source": []
  }
 ],
 "metadata": {
  "kernelspec": {
   "display_name": "Python [Root]",
   "language": "python",
   "name": "Python [Root]"
  },
  "language_info": {
   "codemirror_mode": {
    "name": "ipython",
    "version": 3
   },
   "file_extension": ".py",
   "mimetype": "text/x-python",
   "name": "python",
   "nbconvert_exporter": "python",
   "pygments_lexer": "ipython3",
   "version": "3.5.1"
  },
  "toc": {
   "base_numbering": 1,
   "nav_menu": {},
   "number_sections": true,
   "sideBar": true,
   "skip_h1_title": false,
   "title_cell": "Table of Contents",
   "title_sidebar": "Contents",
   "toc_cell": false,
   "toc_position": {},
   "toc_section_display": true,
   "toc_window_display": false
  }
 },
 "nbformat": 4,
 "nbformat_minor": 2
}
